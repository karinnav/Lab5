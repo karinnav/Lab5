{
 "cells": [
  {
   "cell_type": "markdown",
   "metadata": {},
   "source": [
    "# Lab 5"
   ]
  },
  {
   "cell_type": "markdown",
   "metadata": {},
   "source": [
    "This lab references \"Computational design and experimental validation of oligonucleotide-sensing allosteric ribozymes\" by Robert Penchovsky and Ronald R Breaker.\n",
    "\n",
    "Below is practice using the subprocess package with the muscle function.\n"
   ]
  },
  {
   "cell_type": "code",
   "execution_count": 23,
   "metadata": {},
   "outputs": [
    {
     "name": "stdout",
     "output_type": "stream",
     "text": [
      "*** This is what you'd see on your terminal ***\n",
      "\r\n",
      "MUSCLE v3.8.31 by Robert C. Edgar\r\n",
      "\r\n",
      "http://www.drive5.com/muscle\r\n",
      "This software is donated to the public domain.\r\n",
      "Please cite: Edgar, R.C. Nucleic Acids Res 32(5), 1792-97.\r\n",
      "\r\n",
      "- 2 seqs, max length 8, avg  length 7\r\n",
      "00:00:00      4 MB(0%)  Iter   1   33.33%  K-mer dist pass 1\r",
      "00:00:00      4 MB(0%)  Iter   1  100.00%  K-mer dist pass 1\r",
      "\r\n",
      "00:00:00      4 MB(0%)  Iter   1   33.33%  K-mer dist pass 2\r",
      "00:00:00      4 MB(0%)  Iter   1  100.00%  K-mer dist pass 2\r",
      "\r\n",
      "00:00:00      4 MB(0%)  Iter   1  100.00%  Align node       \r",
      "00:00:00      6 MB(0%)  Iter   1  100.00%  Align node\r",
      "\r\n",
      "00:00:00      6 MB(0%)  Iter   1   50.00%  Root alignment\r",
      "00:00:00      6 MB(0%)  Iter   1  100.00%  Root alignment\r",
      "00:00:00      6 MB(0%)  Iter   1  100.00%  Root alignment\r",
      "\r\n",
      "\n",
      "*** And this would have been in your output file ***\n",
      ">seq1 \r\n",
      "ACATCTAG\r\n",
      ">seq2\r\n",
      "AC-TCTAG\r\n",
      "\n"
     ]
    }
   ],
   "source": [
    "import subprocess\n",
    "\n",
    "seqs = \"\"\">seq1 \n",
    "acatctag\n",
    ">seq2\n",
    "actctag\"\"\"\n",
    "\n",
    "p = subprocess.run(['muscle', '-diags'],\n",
    "                  input = bytes(seqs, 'ascii'), \n",
    "                  stdout=subprocess.PIPE,\n",
    "                   stderr=subprocess.PIPE)\n",
    "\n",
    "print(\"*** This is what you'd see on your terminal ***\")\n",
    "print(p.stderr.decode())\n",
    "\n",
    "print(\"*** And this would have been in your output file ***\")\n",
    "print(p.stdout.decode())"
   ]
  },
  {
   "cell_type": "markdown",
   "metadata": {},
   "source": [
    "**Questions regarding the paper ribozymes:**\n",
    "Will the AND-1 riboswitch cleave itself when both of its OBS are bound?\n",
    "Yes\n",
    "Will the OR-1 riboswitch cleave itself when neither of its OBS are bound?\n",
    "No\n",
    "What behavior do we expect from the YES-1 riboswitch?\n",
    "If the OBS is bound, we can expect it to cleave itself.  Otherwise, it will not cleave itself.\n",
    "\n",
    "**Grabbing the sequences from the paper:**\n",
    "I could not find information on where the sequences were uploaded from the paper.  I had to copy down the sequences from the figures.\n",
    "\n",
    "These sequences and annotations are in ribozymeseqs.txt.\n",
    "\n",
    "Below, I create a table using sql and then add each ribozyme to it manually.  All of the position information is also in the text file above.\n"
   ]
  },
  {
   "cell_type": "code",
   "execution_count": 19,
   "metadata": {},
   "outputs": [],
   "source": [
    "import sqlite3\n",
    "conn = sqlite3.connect(\"New.db\")\n",
    "c = conn.cursor()\n",
    "\n",
    "#creating ribozyme table with specified fields\n",
    "c.execute(\"\"\"CREATE TABLE ribozymes (id INT, \n",
    "                                name TEXT,\n",
    "                                start_end_OBS1 TEXT,\n",
    "                                start_end_OBS2 TEXT,\n",
    "                                start_end_Red TEXT);\"\"\")\n",
    "conn.commit()"
   ]
  },
  {
   "cell_type": "code",
   "execution_count": 20,
   "metadata": {},
   "outputs": [],
   "source": [
    "import sqlite3\n",
    "conn = sqlite3.connect(\"New.db\")\n",
    "c = conn.cursor()\n",
    "#inserting individual information for each ribozyme\n",
    "c.execute(\"\"\"INSERT INTO ribozymes (id, \n",
    "                                name,\n",
    "                                start_end_OBS1,\n",
    "                                start_end_OBS2,\n",
    "                                start_end_Red)\n",
    "                                VALUES\n",
    "                                ('1', \n",
    "                                'YES-1', \n",
    "                                '26-47',\n",
    "                                'N/A', \n",
    "                                \"16-21,49-54\");\"\"\")\n",
    "conn.commit()\n",
    "c.execute(\"\"\"INSERT INTO ribozymes (id, \n",
    "                                name,\n",
    "                                start_end_OBS1,\n",
    "                                start_end_OBS2,\n",
    "                                start_end_Red)\n",
    "                                VALUES\n",
    "                                ('2', \n",
    "                                'NOT-1', \n",
    "                                '44-66',\n",
    "                                'N/A', \n",
    "                                \"40-43,74-77\");\"\"\")\n",
    "conn.commit()\n",
    "c.execute(\"\"\"INSERT INTO ribozymes (id, \n",
    "                                name,\n",
    "                                start_end_OBS1,\n",
    "                                start_end_OBS2,\n",
    "                                start_end_Red)\n",
    "                                VALUES\n",
    "                                ('3', \n",
    "                                'AND-1', \n",
    "                                '30-45',\n",
    "                                '49-64', \n",
    "                                \"16-23,70-77\");\"\"\")\n",
    "conn.commit()\n",
    "c.execute(\"\"\"INSERT INTO ribozymes (id, \n",
    "                                name,\n",
    "                                start_end_OBS1,\n",
    "                                start_end_OBS2,\n",
    "                                start_end_Red)\n",
    "                                VALUES\n",
    "                                ('4', \n",
    "                                'OR-1', \n",
    "                                '26-46',\n",
    "                                '47-66', \n",
    "                                \"16-26,67-77\");\"\"\")\n",
    "conn.commit()"
   ]
  },
  {
   "cell_type": "markdown",
   "metadata": {},
   "source": [
    "**Check:** In order to ensure that my table information was added correctly, I used the SELECT method of sql to print each row."
   ]
  },
  {
   "cell_type": "code",
   "execution_count": 21,
   "metadata": {},
   "outputs": [
    {
     "name": "stdout",
     "output_type": "stream",
     "text": [
      "(1, 'YES-1', '26-47', 'N/A', '16-21,49-54')\n",
      "(2, 'NOT-1', '44-66', 'N/A', '40-43,74-77')\n",
      "(3, 'AND-1', '30-45', '49-64', '16-23,70-77')\n",
      "(4, 'OR-1', '26-46', '47-66', '16-26,67-77')\n"
     ]
    }
   ],
   "source": [
    "import sqlite3\n",
    "conn = sqlite3.connect(\"New.db\")\n",
    "c = conn.cursor()\n",
    "\n",
    "c.execute(\"\"\"SELECT * FROM ribozymes\"\"\")\n",
    "for row in c:\n",
    "    print(row)\n",
    "\n"
   ]
  },
  {
   "cell_type": "markdown",
   "metadata": {},
   "source": [
    "**Running RNAfold:**\n",
    "I downloaded RNAfold package and placed the RNAfold.exe and RNAplot.exe in the same folder as my notebook.\n",
    "\n",
    "I called RNAfold through the terminal by first changing directories to the correct one and running RNAfold.exe.  I used dummy sequences and was able to input the resulting structure into RNAplot.exe.\n",
    "A .ps file was created in the folder carrying the strucuture information."
   ]
  },
  {
   "cell_type": "markdown",
   "metadata": {},
   "source": [
    "**Plotting Ribozymes using RNAfold:**\n",
    "Below, I use the subprocess package to call RNAfold with the given ribozyme sequences.  Then, I used subprocess to call RNAplot inputting the results from RNAfold.  All sequences were run through this process, and a ps file was returned for each.  I converted these files to png files."
   ]
  },
  {
   "cell_type": "code",
   "execution_count": 28,
   "metadata": {},
   "outputs": [
    {
     "name": "stdout",
     "output_type": "stream",
     "text": [
      "*** This is what you'd see on your terminal ***\n",
      "\n",
      "*** And this would have been in your output file ***\n",
      ">YES-1\r\n",
      "GGGCGACCCUGAUGAGCUUGAGUUUAGCUCGUCACUGUCCAGGUUCAAUCAGGCGAAACGGUGAAAGCCGUAGGUUGCCC\r\n",
      "((((((((.(((((((((.......))))))))).((.((.(((...))).))))..(((((....))))).)))))))) (-33.00)\r\n",
      ">NOT-1\r\n",
      "GGCAGGUACAUACAGCUGAUGAGUCCCAAAUAGGACGAAACGCGACACACACCACUAAACCGUGCAGUGUUUUGCGUCCUGUAUUCCACUGC\r\n",
      ".((((....((((((.......((((......))))...((((((.((((..(((......)))..)))).)))))).))))))....)))) (-28.10)\r\n",
      ">AND-1\r\n",
      "GGGCGACCCUGAUGAGCUUGGUUUAGUAUUUACAGCUCCAUACAUGAGGUGUUAUCCCUAUGCAAGUUCGAUCAGGCGAAACGGUGAAAGCCGUAGGUUGCCCAGAGACAAU\r\n",
      "((((((((((((((((((((...(((.....(((.(((.......))).))).....)))..))))))).))))).....(((((....))))).))))))))......... (-42.10)\r\n",
      ">OR-1\r\n",
      "GGGCGACCCUGAUGAGCUUGGUUGAGUAUUUACAGCUCCAUACAUGAGGUGUUCUCCCUACGCAAGUUCGAUCAGGCGAAACGGUGAAAGCCGUAGGUUGCCC\r\n",
      "((((((((((((((((((((((.(((.....(((.(((.......))).))).)))...)).))))))).))))).....(((((....))))).)))))))) (-40.00)\r\n",
      "\n",
      "*** This is what you'd see on your terminal ***\n",
      "\n",
      "*** And this would have been in your output file ***\n",
      "\n"
     ]
    }
   ],
   "source": [
    "import subprocess\n",
    "\n",
    "seqs = \"\"\">YES-1 \n",
    "GGGCGACCCUGAUGAGCUUGAGUUUAGCUCGUCACUGUCCAGGUUCAAUCAGGCGAAACGGUGAAAGCCGUAGGUUGCCC\n",
    ">NOT-1\n",
    "GGCAGGUACAUACAGCUGAUGAGUCCCAAAUAGGACGAAACGCGACACACACCACUAAACCGUGCAGUGUUUUGCGUCCUGUAUUCCACUGC\n",
    ">AND-1\n",
    "GGGCGACCCUGAUGAGCUUGGUUUAGUAUUUACAGCUCCAUACAUGAGGUGUUAUCCCUAUGCAAGUUCGAUCAGGCGAAACGGUGAAAGCCGUAGGUUGCCCAGAGACAAU\n",
    ">OR-1\n",
    "GGGCGACCCUGAUGAGCUUGGUUGAGUAUUUACAGCUCCAUACAUGAGGUGUUCUCCCUACGCAAGUUCGAUCAGGCGAAACGGUGAAAGCCGUAGGUUGCCC\n",
    "\"\"\"\n",
    "\n",
    "p = subprocess.run(['RNAfold'],\n",
    "                  input = bytes(seqs, 'ascii'), \n",
    "                  stdout=subprocess.PIPE,\n",
    "                   stderr=subprocess.PIPE)\n",
    "\n",
    "print(\"*** This is what you'd see on your terminal ***\")\n",
    "print(p.stderr.decode())\n",
    "\n",
    "print(\"*** And this would have been in your output file ***\")\n",
    "print(p.stdout.decode())\n",
    "\n",
    "\n",
    "###################################################################################################################\n",
    "q = subprocess.run(['RNAplot'],\n",
    "                  input = p.stdout, \n",
    "                  stdout=subprocess.PIPE,\n",
    "                   stderr=subprocess.PIPE)\n",
    "\n",
    "print(\"*** This is what you'd see on your terminal ***\")\n",
    "print(q.stderr.decode())\n",
    "\n",
    "print(\"*** And this would have been in your output file ***\")\n",
    "print(q.stdout.decode())\n"
   ]
  },
  {
   "cell_type": "code",
   "execution_count": 18,
   "metadata": {},
   "outputs": [
    {
     "data": {
      "text/plain": [
       "<sqlite3.Cursor at 0x1dde4653ce0>"
      ]
     },
     "execution_count": 18,
     "metadata": {},
     "output_type": "execute_result"
    }
   ],
   "source": [
    "# import sqlite3\n",
    "# conn = sqlite3.connect(\"New.db\")\n",
    "# c = conn.cursor()\n",
    "\n",
    "# c.execute(\"\"\"DROP TABLE ribozymes\"\"\")\n",
    "\n"
   ]
  },
  {
   "cell_type": "code",
   "execution_count": 40,
   "metadata": {},
   "outputs": [
    {
     "name": "stdout",
     "output_type": "stream",
     "text": [
      "YES-1\n"
     ]
    },
    {
     "data": {
      "image/png": "[encoded data removed]",
      "text/plain": [
       "<IPython.core.display.Image object>"
      ]
     },
     "execution_count": 40,
     "metadata": {
      "image/png": {
       "height": 400,
       "width": 400
      }
     },
     "output_type": "execute_result"
    }
   ],
   "source": [
    "#Using Image package to display ribozyme plots\n",
    "from IPython.display import Image\n",
    "print(\"YES-1\")\n",
    "Image(filename= \"YES-1_ss.png\", width=400, height=400)\n"
   ]
  },
  {
   "cell_type": "code",
   "execution_count": 41,
   "metadata": {},
   "outputs": [
    {
     "name": "stdout",
     "output_type": "stream",
     "text": [
      "NOT-1\n"
     ]
    },
    {
     "data": {
      "image/png": "[encoded data removed]",
      "text/plain": [
       "<IPython.core.display.Image object>"
      ]
     },
     "execution_count": 41,
     "metadata": {
      "image/png": {
       "height": 400,
       "width": 400
      }
     },
     "output_type": "execute_result"
    }
   ],
   "source": [
    "from IPython.display import Image\n",
    "print(\"NOT-1\")\n",
    "Image(filename= \"NOT-1_ss.png\", width=400, height=400)\n"
   ]
  },
  {
   "cell_type": "code",
   "execution_count": 42,
   "metadata": {},
   "outputs": [
    {
     "name": "stdout",
     "output_type": "stream",
     "text": [
      "AND-1\n"
     ]
    },
    {
     "data": {
      "image/png": "[encoded data removed]",
      "text/plain": [
       "<IPython.core.display.Image object>"
      ]
     },
     "execution_count": 42,
     "metadata": {
      "image/png": {
       "height": 400,
       "width": 400
      }
     },
     "output_type": "execute_result"
    }
   ],
   "source": [
    "from IPython.display import Image\n",
    "print(\"AND-1\")\n",
    "Image(filename= \"AND-1_ss.png\", width=400, height=400)\n"
   ]
  },
  {
   "cell_type": "code",
   "execution_count": 43,
   "metadata": {},
   "outputs": [
    {
     "name": "stdout",
     "output_type": "stream",
     "text": [
      "OR-1\n"
     ]
    },
    {
     "data": {
      "image/png": "[encoded data removed]",
      "text/plain": [
       "<IPython.core.display.Image object>"
      ]
     },
     "execution_count": 43,
     "metadata": {
      "image/png": {
       "height": 400,
       "width": 400
      }
     },
     "output_type": "execute_result"
    }
   ],
   "source": [
    "from IPython.display import Image\n",
    "print(\"OR-1\")\n",
    "Image(filename= \"OR-1_ss.png\", width=400, height=400)"
   ]
  },
  {
   "cell_type": "markdown",
   "metadata": {},
   "source": [
    " **Observations:**\n",
    "Yes-1: There are three stem loops instead of two in my produced conformation.  One of the stem loops are similar.\n",
    "Not-1: This one looks very similar to the one shown in the paper.\n",
    "And-1: This one looks very similar to the one shown in the paper.\n",
    "Or-1:This one looks very similar to the one shown in the paper.\n",
    "\n",
    "\n",
    "**Simulating OBS binding:**\n",
    "Below I pass an argument that includes a textfile with the OBS positions replaced with x's.  Both RNAfold and RNAplot are used for both Yes-1 and Not-1.\n",
    "\n",
    "When the OBS in Yes-1 is bound, the red regions of the structure overlap so the protein self-cleaves.\n",
    "When the OBS in Yes-1 is bound, the red regions of the structure do not overlap so the protein does not self-cleave.\n",
    "\n"
   ]
  },
  {
   "cell_type": "code",
   "execution_count": 44,
   "metadata": {},
   "outputs": [
    {
     "name": "stdout",
     "output_type": "stream",
     "text": [
      "*** This is what you'd see on your terminal ***\n",
      "WARNING: structure constraint is missing\r\n",
      "\n",
      "*** And this would have been in your output file ***\n",
      ">YES-1_constraints\r\n",
      "GGGCGACCCUGAUGAGCUUGAGUUUxxxxxxxxxxxxxxxxxxxxxxAUCAGGC GAAACGGUGAAAGCCGUAGGUUGCCC\r\n",
      "((((((((.......((((((...........................))))))....(((((....))))).)))))))) (-24.10)\r\n",
      "\n",
      "*** This is what you'd see on your terminal ***\n",
      "\n",
      "*** And this would have been in your output file ***\n",
      "\n"
     ]
    }
   ],
   "source": [
    "import subprocess\n",
    "\n",
    "Yes1 = \"\"\">YES-1_True  \n",
    "GGGCGACCCUGAUGAGCUUGAGUUUAGCUCGUCACUGUCCAGGUUCAAUCAGGCGAAACGGUGAAAGCCGUAGGUUGCCC\n",
    "\"\"\"\n",
    "\n",
    "p = subprocess.run(['RNAfold', '-C', 'YES-1_constraints.txt'],\n",
    "                  input =bytes(Yes1, 'ascii'), \n",
    "                  stdout=subprocess.PIPE,\n",
    "                   stderr=subprocess.PIPE)\n",
    "\n",
    "print(\"*** This is what you'd see on your terminal ***\")\n",
    "print(p.stderr.decode())\n",
    "\n",
    "print(\"*** And this would have been in your output file ***\")\n",
    "print(p.stdout.decode())\n",
    "\n",
    "\n",
    "###################################################################################################################\n",
    "q = subprocess.run(['RNAplot'],\n",
    "                  input = p.stdout, \n",
    "                  stdout=subprocess.PIPE,\n",
    "                   stderr=subprocess.PIPE)\n",
    "\n",
    "print(\"*** This is what you'd see on your terminal ***\")\n",
    "print(q.stderr.decode())\n",
    "\n",
    "print(\"*** And this would have been in your output file ***\")\n",
    "print(q.stdout.decode())"
   ]
  },
  {
   "cell_type": "code",
   "execution_count": 45,
   "metadata": {},
   "outputs": [
    {
     "name": "stdout",
     "output_type": "stream",
     "text": [
      "YES-1_True\n"
     ]
    },
    {
     "data": {
      "image/png": "[encoded data removed]",
      "text/plain": [
       "<IPython.core.display.Image object>"
      ]
     },
     "execution_count": 45,
     "metadata": {
      "image/png": {
       "height": 400,
       "width": 400
      }
     },
     "output_type": "execute_result"
    }
   ],
   "source": [
    "from IPython.display import Image\n",
    "print(\"YES-1_True\")\n",
    "Image(filename= \"YES-1_constraints_ss.png\", width=400, height=400)"
   ]
  },
  {
   "cell_type": "code",
   "execution_count": 46,
   "metadata": {},
   "outputs": [
    {
     "name": "stdout",
     "output_type": "stream",
     "text": [
      "*** This is what you'd see on your terminal ***\n",
      "WARNING: structure constraint is missing\r\n",
      "\n",
      "*** And this would have been in your output file ***\n",
      ">NOT-1_constraints\r\n",
      "GGCAGGUACAUACAGCUGAUGAGUCCCAAAUAGGACGAAACGCxxxxxxxxxxxxxxxxxxxxxxxGUGUUUUGCGUCCUGUAUUCCACUGC\r\n",
      ".((((....((((((..((((.((((......))))(((((((.......................))))))).))))))))))....)))) (-19.30)\r\n",
      "\n",
      "*** This is what you'd see on your terminal ***\n",
      "\n",
      "*** And this would have been in your output file ***\n",
      "\n"
     ]
    }
   ],
   "source": [
    "import subprocess\n",
    "\n",
    "Not1 = \"\"\">NOT-1\n",
    "GGCAGGUACAUACAGCUGAUGAGUCCCAAAUAGGACGAAACGCGACACACACCACUAAACCGUGCAGUGUUUUGCGUCCUGUAUUCCACUGC\n",
    "\"\"\"\n",
    "\n",
    "p = subprocess.run(['RNAfold', '-C', 'NOT-1_constraints.txt'],\n",
    "                  input =bytes(Not1, 'ascii'), \n",
    "                  stdout=subprocess.PIPE,\n",
    "                   stderr=subprocess.PIPE)\n",
    "\n",
    "print(\"*** This is what you'd see on your terminal ***\")\n",
    "print(p.stderr.decode())\n",
    "\n",
    "print(\"*** And this would have been in your output file ***\")\n",
    "print(p.stdout.decode())\n",
    "\n",
    "\n",
    "###################################################################################################################\n",
    "q = subprocess.run(['RNAplot'],\n",
    "                  input = p.stdout, \n",
    "                  stdout=subprocess.PIPE,\n",
    "                   stderr=subprocess.PIPE)\n",
    "\n",
    "print(\"*** This is what you'd see on your terminal ***\")\n",
    "print(q.stderr.decode())\n",
    "\n",
    "print(\"*** And this would have been in your output file ***\")\n",
    "print(q.stdout.decode())"
   ]
  },
  {
   "cell_type": "markdown",
   "metadata": {},
   "source": [
    "Not-1 Constraints Image:\n",
    "<img src=\"files/NOT-1_constraints_ss.png\" width=\"400\" height=\"400\">\n"
   ]
  },
  {
   "cell_type": "markdown",
   "metadata": {},
   "source": [
    "**OBS-binding in AND-1 and OR-1:**\n",
    "For this portion of the lab, I made several constraint files to represent binding at one or both OBS in each sequence.  These conformations are labeled as boolean inputs: T/F, F/T, T/T."
   ]
  },
  {
   "cell_type": "code",
   "execution_count": 4,
   "metadata": {},
   "outputs": [
    {
     "name": "stdout",
     "output_type": "stream",
     "text": [
      "*** This is what you'd see on your terminal ***\n",
      "WARNING: structure constraint is missing\r\n",
      "\n",
      "*** And this would have been in your output file ***\n",
      ">AND-1_TFconstraints\r\n",
      "GGGCGACCCUGAUGAGCUUGGUUUAGUAUxxxxxxxxxxxxxxxxGAGGUGUUAUCCCUAUGCAAGUUCGAUCAGGCGAAACGGUGAAAGCCGUAGGUUGCCCAGAGACAAU\r\n",
      "((((((((((((((((((((..........................(((.(....))))...))))))).))))).....(((((....))))).))))))))......... (-33.90)\r\n",
      "\n",
      "*** This is what you'd see on your terminal ***\n",
      "\n",
      "*** And this would have been in your output file ***\n",
      "\n",
      "*** This is what you'd see on your terminal ***\n",
      "WARNING: structure constraint is missing\r\n",
      "\n",
      "*** And this would have been in your output file ***\n",
      ">AND-1_FTconstaints\r\n",
      "GGGCGACCCUGAUGAGCUUGGUUUAGUAUUUACAGCUCCAUACAUGAGxxxxxxxxxxxxxxxxAGUUCGAUCAGGCGAAACGGUGAAAGCCGUAGGUUGCCCAGAGACAAU\r\n",
      "(((((((((((((((((((((...(((.......))))))........................))))).))))).....(((((....))))).))))))))......... (-29.60)\r\n",
      "\n",
      "*** This is what you'd see on your terminal ***\n",
      "\n",
      "*** And this would have been in your output file ***\n",
      "\n",
      "*** This is what you'd see on your terminal ***\n",
      "WARNING: structure constraint is missing\r\n",
      "\n",
      "*** And this would have been in your output file ***\n",
      ">AND-1_TTconstraints\r\n",
      "GGGCGACCCUGAUGAGCUUGGUUUAGUAUxxxxxxxxxxxxxxxxGAGxxxxxxxxxxxxxxxxAGUUCGAUCAGGCGAAACGGUGAAAGCCGUAGGUUGCCCAGAGACAAU\r\n",
      "((((((((((((((((((..............................................))))).))))).....(((((....))))).))))))))......... (-27.54)\r\n",
      "\n",
      "*** This is what you'd see on your terminal ***\n",
      "\n",
      "*** And this would have been in your output file ***\n",
      "\n"
     ]
    }
   ],
   "source": [
    "import subprocess\n",
    "\n",
    "And1 = \"\"\">AND-1\n",
    "GGGCGACCCUGAUGAGCUUGGUUUAGUAUUUACAGCUCCAUACAUGAGGUGUUAUCCCUAUGCAAGUUCGAUCAGGCGAAACGGUGAAAGCCGUAGGUUGCCCAGAGACAAU\n",
    "\"\"\"\n",
    "\n",
    "\n",
    "###T/F Constraints\n",
    "###################################################################################################################\n",
    "a = subprocess.run(['RNAfold', '-C', 'AND-1_TFconstraints.txt'],\n",
    "                  input =bytes(And1, 'ascii'), \n",
    "                  stdout=subprocess.PIPE,\n",
    "                   stderr=subprocess.PIPE)\n",
    "\n",
    "print(\"*** This is what you'd see on your terminal ***\")\n",
    "print(a.stderr.decode())\n",
    "\n",
    "print(\"*** And this would have been in your output file ***\")\n",
    "print(a.stdout.decode())\n",
    "\n",
    "b = subprocess.run(['RNAplot'],\n",
    "                  input = a.stdout, \n",
    "                  stdout=subprocess.PIPE,\n",
    "                   stderr=subprocess.PIPE)\n",
    "\n",
    "print(\"*** This is what you'd see on your terminal ***\")\n",
    "print(b.stderr.decode())\n",
    "\n",
    "print(\"*** And this would have been in your output file ***\")\n",
    "print(b.stdout.decode())\n",
    "\n",
    "####F/T Constraints\n",
    "###################################################################################################################\n",
    "c = subprocess.run(['RNAfold', '-C', 'AND-1_FTconstraints.txt'],\n",
    "                  input =bytes(And1, 'ascii'), \n",
    "                  stdout=subprocess.PIPE,\n",
    "                   stderr=subprocess.PIPE)\n",
    "\n",
    "print(\"*** This is what you'd see on your terminal ***\")\n",
    "print(c.stderr.decode())\n",
    "\n",
    "print(\"*** And this would have been in your output file ***\")\n",
    "print(c.stdout.decode())\n",
    "\n",
    "d = subprocess.run(['RNAplot'],\n",
    "                  input = c.stdout, \n",
    "                  stdout=subprocess.PIPE,\n",
    "                   stderr=subprocess.PIPE)\n",
    "\n",
    "print(\"*** This is what you'd see on your terminal ***\")\n",
    "print(d.stderr.decode())\n",
    "\n",
    "print(\"*** And this would have been in your output file ***\")\n",
    "print(d.stdout.decode())\n",
    "\n",
    "###T/T Constraints\n",
    "###################################################################################################################\n",
    "e = subprocess.run(['RNAfold', '-C', 'AND-1_TTconstraints.txt'],\n",
    "                  input =bytes(And1, 'ascii'), \n",
    "                  stdout=subprocess.PIPE,\n",
    "                   stderr=subprocess.PIPE)\n",
    "\n",
    "print(\"*** This is what you'd see on your terminal ***\")\n",
    "print(e.stderr.decode())\n",
    "\n",
    "print(\"*** And this would have been in your output file ***\")\n",
    "print(e.stdout.decode())\n",
    "\n",
    "f = subprocess.run(['RNAplot'],\n",
    "                  input = e.stdout, \n",
    "                  stdout=subprocess.PIPE,\n",
    "                   stderr=subprocess.PIPE)\n",
    "\n",
    "print(\"*** This is what you'd see on your terminal ***\")\n",
    "print(f.stderr.decode())\n",
    "\n",
    "print(\"*** And this would have been in your output file ***\")\n",
    "print(f.stdout.decode())"
   ]
  },
  {
   "cell_type": "markdown",
   "metadata": {},
   "source": [
    "\n"
   ]
  },
  {
   "cell_type": "markdown",
   "metadata": {},
   "source": [
    "And-1 T/F Constraints Image:\n",
    "<img src=\"files/AND-1_TFconstraints_ss.png\" width=\"400\" height=\"400\">\n",
    "\n",
    "And-1 F/T Constraints Image:\n",
    "<img src=\"files/AND-1_FTconstaints_ss.png\" width=\"400\" height=\"400\">\n",
    "\n",
    "And-1 T/T Constraints Image:\n",
    "<img src=\"files/AND-1_TTconstraints_ss.png\" width=\"400\" height=\"400\">"
   ]
  },
  {
   "cell_type": "code",
   "execution_count": 6,
   "metadata": {},
   "outputs": [
    {
     "name": "stdout",
     "output_type": "stream",
     "text": [
      "*** This is what you'd see on your terminal ***\n",
      "WARNING: structure constraint is missing\r\n",
      "\n",
      "*** And this would have been in your output file ***\n",
      ">OR-1_TFconstraints\r\n",
      "GGGCGACCCUGAUGAGCUUGGUUGAGxxxxxxxxxxxxxxxxxxxxAGGUGUUCUCCCUACGCAAGUUCGAUCAGGCGAAACGGUGAAAGCCGUAGGUUGCCC\r\n",
      "((((((((((((((((((((((.(((...........................)))...)).))))))).))))).....(((((....))))).)))))))) (-33.10)\r\n",
      "\n",
      "*** This is what you'd see on your terminal ***\n",
      "\n",
      "*** And this would have been in your output file ***\n",
      "\n",
      "*** This is what you'd see on your terminal ***\n",
      "WARNING: structure constraint is missing\r\n",
      "\n",
      "*** And this would have been in your output file ***\n",
      ">OR-1_FTconstaints\r\n",
      "GGGCGACCCUGAUGAGCUUGGUUGAGUAUUUACAGCUCCAUACAUGxxxxxxxxxxxxxxxxxxxxUUCGAUCAGGCGAAACGGUGAAAGCCGUAGGUUGCCC\r\n",
      "((((((((.......(((((((((((........................................)))))))))))...(((((....))))).)))))))) (-29.09)\r\n",
      "\n",
      "*** This is what you'd see on your terminal ***\n",
      "\n",
      "*** And this would have been in your output file ***\n",
      "\n",
      "*** This is what you'd see on your terminal ***\n",
      "WARNING: structure constraint is missing\r\n",
      "\n",
      "*** And this would have been in your output file ***\n",
      ">OR-1_TTconstraints\r\n",
      "GGGCGACCCUGAUGAGCUUGGUUGAGxxxxxxxxxxxxxxxxxxxxxxxxxxxxxxxxxxxxxxxxUUCGAUCAGGCGAAACGGUGAAAGCCGUAGGUUGCCC\r\n",
      "((((((((.......((((((((((..........................................))))))))))...(((((....))))).)))))))) (-28.84)\r\n",
      "\n",
      "*** This is what you'd see on your terminal ***\n",
      "\n",
      "*** And this would have been in your output file ***\n",
      "\n"
     ]
    }
   ],
   "source": [
    "import subprocess\n",
    "\n",
    "Or1 = \"\"\">OR-1\n",
    "GGGCGACCCUGAUGAGCUUGGUUGAGUAUUUACAGCUCCAUACAUGAGGUGUUCUCCCUACGCAAGUUCGAUCAGGCGAAACGGUGAAAGCCGUAGGUUGCCC\n",
    "\"\"\"\n",
    "\n",
    "###T/F Constraints\n",
    "###################################################################################################################\n",
    "a = subprocess.run(['RNAfold', '-C', 'OR-1_TFconstraints.txt'],\n",
    "                  input =bytes(Or1, 'ascii'), \n",
    "                  stdout=subprocess.PIPE,\n",
    "                   stderr=subprocess.PIPE)\n",
    "\n",
    "print(\"*** This is what you'd see on your terminal ***\")\n",
    "print(a.stderr.decode())\n",
    "\n",
    "print(\"*** And this would have been in your output file ***\")\n",
    "print(a.stdout.decode())\n",
    "\n",
    "b = subprocess.run(['RNAplot'],\n",
    "                  input = a.stdout, \n",
    "                  stdout=subprocess.PIPE,\n",
    "                   stderr=subprocess.PIPE)\n",
    "\n",
    "print(\"*** This is what you'd see on your terminal ***\")\n",
    "print(b.stderr.decode())\n",
    "\n",
    "print(\"*** And this would have been in your output file ***\")\n",
    "print(b.stdout.decode())\n",
    "\n",
    "####F/T Constraints\n",
    "###################################################################################################################\n",
    "c = subprocess.run(['RNAfold', '-C', 'OR-1_FTconstraints.txt'],\n",
    "                  input =bytes(Or1, 'ascii'), \n",
    "                  stdout=subprocess.PIPE,\n",
    "                   stderr=subprocess.PIPE)\n",
    "\n",
    "print(\"*** This is what you'd see on your terminal ***\")\n",
    "print(c.stderr.decode())\n",
    "\n",
    "print(\"*** And this would have been in your output file ***\")\n",
    "print(c.stdout.decode())\n",
    "\n",
    "d = subprocess.run(['RNAplot'],\n",
    "                  input = c.stdout, \n",
    "                  stdout=subprocess.PIPE,\n",
    "                   stderr=subprocess.PIPE)\n",
    "\n",
    "print(\"*** This is what you'd see on your terminal ***\")\n",
    "print(d.stderr.decode())\n",
    "\n",
    "print(\"*** And this would have been in your output file ***\")\n",
    "print(d.stdout.decode())\n",
    "\n",
    "###T/T Constraints\n",
    "###################################################################################################################\n",
    "e = subprocess.run(['RNAfold', '-C', 'OR-1_TTconstraints.txt'],\n",
    "                  input =bytes(Or1, 'ascii'), \n",
    "                  stdout=subprocess.PIPE,\n",
    "                   stderr=subprocess.PIPE)\n",
    "\n",
    "print(\"*** This is what you'd see on your terminal ***\")\n",
    "print(e.stderr.decode())\n",
    "\n",
    "print(\"*** And this would have been in your output file ***\")\n",
    "print(e.stdout.decode())\n",
    "\n",
    "f = subprocess.run(['RNAplot'],\n",
    "                  input = e.stdout, \n",
    "                  stdout=subprocess.PIPE,\n",
    "                   stderr=subprocess.PIPE)\n",
    "\n",
    "print(\"*** This is what you'd see on your terminal ***\")\n",
    "print(f.stderr.decode())\n",
    "\n",
    "print(\"*** And this would have been in your output file ***\")\n",
    "print(f.stdout.decode())"
   ]
  },
  {
   "cell_type": "markdown",
   "metadata": {},
   "source": [
    "OR-1 T/F Constraints Image:\n",
    "<img src=\"files/OR-1_TFconstraints_ss.png\" width=\"400\" height=\"400\">\n",
    "\n",
    "OR-1 F/T Constraints Image:\n",
    "<img src=\"files/OR-1_FTconstaints_ss.png\" width=\"400\" height=\"400\">\n",
    "\n",
    "OR-1 T/T Constraints Image:\n",
    "<img src=\"files/OR-1_TTconstraints_ss.png\" width=\"400\" height=\"400\">"
   ]
  },
  {
   "cell_type": "markdown",
   "metadata": {},
   "source": [
    "**Observations:**\n",
    "*AND-1*\n",
    "T/F:The red regions do not fully overlap and the conformation looks different than the paper.\n",
    "F/T:The red regions do not overlap in this conformation and the conformation looks similar to the paper.\n",
    "T/T:The red regions do not overlap in this conformation, differing from the paper.\n",
    "\n",
    "*OR-1*\n",
    "T/F:The red regions do not fully overlap and the conformation looks slightly different than the paper.\n",
    "F/T:The red regions fully overlap and the conformation is the same as the one shown in the paper.\n",
    "T/T:The red regions fully overlap and the conformation is the same as the one shown in the paper.\n",
    "\n",
    "Below are the truth tables describing each set of conformations for the AND-1 and OR-1 sequence."
   ]
  },
  {
   "cell_type": "code",
   "execution_count": 7,
   "metadata": {},
   "outputs": [],
   "source": [
    "import sqlite3\n",
    "conn = sqlite3.connect(\"New.db\")\n",
    "c = conn.cursor()\n",
    "\n",
    "#creating ribozyme table with specified fields\n",
    "c.execute(\"\"\"CREATE TABLE And1 (input TEXT,\n",
    "                                output TEXT);\"\"\")\n",
    "\n",
    "c.execute(\"\"\"CREATE TABLE Or1 (input TEXT,\n",
    "                                output TEXT);\"\"\")\n",
    "\n",
    "conn.commit()\n",
    "\n",
    "#inserting individual information for each ribozyme\n",
    "c.execute(\"\"\"INSERT INTO And1 (input,\n",
    "                                output)\n",
    "                                VALUES\n",
    "                                ('F/F', \n",
    "                                'F');\"\"\")\n",
    "c.execute(\"\"\"INSERT INTO And1 (input,\n",
    "                                output)\n",
    "                                VALUES\n",
    "                                ('T/F', \n",
    "                                'F');\"\"\")\n",
    "c.execute(\"\"\"INSERT INTO And1 (input,\n",
    "                                output)\n",
    "                                VALUES\n",
    "                                ('F/T', \n",
    "                                'F');\"\"\")\n",
    "c.execute(\"\"\"INSERT INTO And1 (input,\n",
    "                                output)\n",
    "                                VALUES\n",
    "                                ('T/T', \n",
    "                                'F');\"\"\")\n",
    "conn.commit()\n",
    "\n",
    "c.execute(\"\"\"INSERT INTO Or1 (input,\n",
    "                                output)\n",
    "                                VALUES\n",
    "                                ('F/F', \n",
    "                                'F');\"\"\")\n",
    "c.execute(\"\"\"INSERT INTO Or1 (input,\n",
    "                                output)\n",
    "                                VALUES\n",
    "                                ('T/F', \n",
    "                                'F');\"\"\")\n",
    "c.execute(\"\"\"INSERT INTO Or1 (input,\n",
    "                                output)\n",
    "                                VALUES\n",
    "                                ('F/T', \n",
    "                                'T');\"\"\")\n",
    "c.execute(\"\"\"INSERT INTO Or1 (input,\n",
    "                                output)\n",
    "                                VALUES\n",
    "                                ('T/T', \n",
    "                                'T');\"\"\")\n",
    "conn.commit()\n",
    "\n",
    "\n",
    "\n",
    "\n",
    "\n",
    "\n"
   ]
  },
  {
   "cell_type": "code",
   "execution_count": 8,
   "metadata": {},
   "outputs": [
    {
     "name": "stdout",
     "output_type": "stream",
     "text": [
      "('F/F', 'F')\n",
      "('T/F', 'F')\n",
      "('F/T', 'F')\n",
      "('T/T', 'F')\n",
      "('F/F', 'F')\n",
      "('T/F', 'F')\n",
      "('F/T', 'T')\n",
      "('T/T', 'T')\n"
     ]
    }
   ],
   "source": [
    "import sqlite3\n",
    "conn = sqlite3.connect(\"New.db\")\n",
    "c = conn.cursor()\n",
    "\n",
    "c.execute(\"\"\"SELECT * FROM And1\"\"\")\n",
    "for row in c:\n",
    "    print(row)\n",
    "    \n",
    "c.execute(\"\"\"SELECT * FROM Or1\"\"\")\n",
    "for row in c:\n",
    "    print(row)"
   ]
  },
  {
   "cell_type": "code",
   "execution_count": null,
   "metadata": {},
   "outputs": [],
   "source": []
  }
 ],
 "metadata": {
  "kernelspec": {
   "display_name": "Python 3",
   "language": "python",
   "name": "python3"
  },
  "language_info": {
   "codemirror_mode": {
    "name": "ipython",
    "version": 3
   },
   "file_extension": ".py",
   "mimetype": "text/x-python",
   "name": "python",
   "nbconvert_exporter": "python",
   "pygments_lexer": "ipython3",
   "version": "3.6.5"
  }
 },
 "nbformat": 4,
 "nbformat_minor": 2
}
